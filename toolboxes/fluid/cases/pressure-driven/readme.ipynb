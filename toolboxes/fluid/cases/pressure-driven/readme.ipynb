{
 "cells": [
  {
   "cell_type": "markdown",
   "metadata": {},
   "source": [
    "# Test case description and convergence analysis"
   ]
  },
  {
   "cell_type": "markdown",
   "metadata": {},
   "source": [
    "## Two-dimensional test cases"
   ]
  },
  {
   "cell_type": "markdown",
   "metadata": {},
   "source": [
    "### Pipe\n",
    "\n",
    "#### Geometry\n",
    "\n",
    "The domain is the rectangle $\\Omega=[0;L]\\times[0;H]\\subset\\mathbb R^2$. Default is $L=1,H=4$. Top, bottom, left and right boundaries are labeled accordingly : $\\Gamma_{top}=[0;L]\\times\\{H\\}$, $\\Gamma_{bottom}=[0;L]\\times\\{H\\}$, $\\Gamma_{left}=\\{0\\}\\times[0;H]$ and $\\Gamma_{right}=\\{L\\}\\times[0;H]$.\n",
    "\n",
    "The parameter are:\n",
    "\n",
    "* `pin` : inlet pressure on $\\Gamma_{bottom}\n",
    "* `pout` : outlet pressure on $\\Gamma_{top}$\n",
    "* `L` : pipe width\n",
    "* `H` : pipe length\n",
    "* `nu` : dynamic viscosity\n",
    "\n",
    "#### Equations\n",
    "\n",
    "Line 6 of `pipe-2d.json`, switching between \n",
    "\n",
    "- `\"equations\":\"Stokes\"`\n",
    "- `\"equations\":\"Navier-Stokes\"`\n",
    "\n",
    "allows to solve for either problem.\n",
    "\n",
    "#### Analytical solution\n",
    "\n",
    "The exact solution for Stokes' problem writes :\n",
    "\n",
    "$$\\mathbf u_{ex} = \\left(\\begin{matrix}0\\\\\\frac{p_{in}-p_{out}}{2H\\nu}(L-x)x\\end{matrix}\\right)$$\n",
    "$$p_{ex} = p_{in} + \\frac{p_{out}-p_{in}}Hy$$\n",
    "\n",
    "An easy computation shows the convective term $(\\mathbf u\\cdot\\nabla)\\mathbf u$ is zero. Thus, the analytical solution is the same for the Navier-Stokes' problem."
   ]
  },
  {
   "cell_type": "markdown",
   "metadata": {},
   "source": [
    "### Curved pipe\n",
    "\n",
    "#### Geometry\n",
    "\n",
    "The domain in polar coordinates $(r,\\theta)$ is $\\Omega=[r_1;r_2]\\times[\\frac\\pi2;\\frac\\pi6]\\subset\\mathbb R^2$. Default is $r_1=1.9,r_2=2.1$. The curved boundaries are labeled `wall` and straight boundaries are labeled as follows : $\\Gamma_{in}=[r_1;r_2]\\times\\{\\frac\\pi2+\\frac\\pi6\\}$, $\\Gamma_{out}=[r_1;r_2]\\times\\{\\frac\\pi2\\}$.\n",
    "\n",
    "The parameter are:\n",
    "\n",
    "* `pin` : inlet pressure on $\\Gamma_{in}\n",
    "* `pout` : outlet pressure on $\\Gamma_{out}$\n",
    "* `L` : pipe width\n",
    "* `H` : pipe length\n",
    "* `nu` : dynamic viscosity\n",
    "\n",
    "#### Equations\n",
    "\n",
    "Line 6 of `curved-pipe-2d.json`, switching between \n",
    "\n",
    "- `\"equations\":\"Stokes\"`\n",
    "- `\"equations\":\"Navier-Stokes\"`\n",
    "\n",
    "allows to solve for either problem.\n",
    "\n",
    "#### Analytical solution\n",
    "\n",
    "In polar coordinates, the exact solution for Stokes' problem writes\n",
    "\n",
    "$$\\mathbf u_{ex} = \\left(\\frac{p_{in}-p_{out}}{\\frac\\pi6}\\left(\\frac12r\\text{ln}(r)+\\frac Cr+Dr\\right)\\right)\\mathbf e_\\theta$$\n",
    "$$p_{ex} = \\frac{p_{in}(\\theta-\\frac\\pi6)-p_{out}\\theta}{\\frac\\pi6}$$\n",
    "\n",
    "where\n",
    "\n",
    "$$C=\\frac{r_1^2r_2^2}2\\frac{\\text{ln}(r_2)-\\text{ln}(r_1)}{r_2^2-r_1^2}$$\n",
    "$$D=-\\frac12\\frac{r_2^2\\text{ln}(r_2)-r_1^2\\text{ln}(r_1)}{r_2^2-r_1^2}$$\n",
    "\n",
    "This yields, for default values of $r_1,r_2$, the following solution in cartesian coordinates.\n",
    "\n",
    "$$\\mathbf u_{ex} = \\left(\\begin{matrix} -\\sin(\\text{acos}(\\frac x{\\sqrt{x^2+y^2}}))(19.0985931710274-1.90985931710274)(0.5\\sqrt{x^2+y^2}log(\\sqrt{x^2+y^2})+\\frac{0.995836667858137}{\\sqrt{x^2+y^2}}-0.596781975733881\\sqrt{x^2+y^2}) \\\\ \\cos(\\text{acos}(\\frac x{\\sqrt{x^2+y^2}}))(19.0985931710274-1.90985931710274)(0.5\\sqrt{x^2+y^2}log(\\sqrt{x^2+y^2})+\\frac{0.995836667858137}{\\sqrt{x^2+y^2}}-0.596781975733881\\sqrt{x^2+y^2}) \\end{matrix}\\right)$$\n",
    "\n",
    "$$p_{ex} = (19.0985931710274(\\text{acos}(\\frac x{\\sqrt{x^2+y^2}})-1.5707963267949)+1.90985931710274(2.09439510239320-\\text{acos}(\\frac x{\\sqrt{x^2+y^2}})))$$\n",
    "\n",
    "\n",
    "A computation with sympy shows the convective term $(\\mathbf u\\cdot\\nabla)\\mathbf u=(C_x,C_y,C_z)^T$ is as follows.\n",
    "\n",
    "```\n",
    "Cx = \n",
    "\n",
    "8.59436692696235*x*(-8.59436692696235*x**2*y*(0.5*sqrt(x**2 + y**2)*log(sqrt(x**2 + y**2)) - 0.596781975733881*sqrt(x**2 + y**2) + 0.995836667858137/sqrt(x**2 + y**2))/((x**2 + y**2)**2*sqrt(-x**2/(x**2 + y**2) + 1)) - 8.59436692696235*sqrt(-x**2/(x**2 + y**2) + 1)*(0.5*y*log(sqrt(x**2 + y**2))/sqrt(x**2 + y**2) - 0.096781975733881*y/sqrt(x**2 + y**2) - 0.995836667858137*y/(x**2 + y**2)**(3/2)))*(0.5*sqrt(x**2 + y**2)*log(sqrt(x**2 + y**2)) - 0.596781975733881*sqrt(x**2 + y**2) + 0.995836667858137/sqrt(x**2 + y**2))/sqrt(x**2 + y**2) - 8.59436692696235*sqrt(-x**2/(x**2 + y**2) + 1)*(-8.59436692696235*sqrt(-x**2/(x**2 + y**2) + 1)*(0.5*x*log(sqrt(x**2 + y**2))/sqrt(x**2 + y**2) - 0.096781975733881*x/sqrt(x**2 + y**2) - 0.995836667858137*x/(x**2 + y**2)**(3/2)) - 8.59436692696235*(x**3/(x**2 + y**2)**2 - x/(x**2 + y**2))*(0.5*sqrt(x**2 + y**2)*log(sqrt(x**2 + y**2)) - 0.596781975733881*sqrt(x**2 + y**2) + 0.995836667858137/sqrt(x**2 + y**2))/sqrt(-x**2/(x**2 + y**2) + 1))*(0.5*sqrt(x**2 + y**2)*log(sqrt(x**2 + y**2)) - 0.596781975733881*sqrt(x**2 + y**2) + 0.995836667858137/sqrt(x**2 + y**2)) \n",
    "```\n",
    "\n",
    "```\n",
    "Cy = \n",
    "\n",
    " 8.59436692696235*x*(-8.59436692696235*x*y*(0.5*sqrt(x**2 + y**2)*log(sqrt(x**2 + y**2)) - 0.596781975733881*sqrt(x**2 + y**2) + 0.995836667858137/sqrt(x**2 + y**2))/(x**2 + y**2)**(3/2) + 8.59436692696235*x*(0.5*y*log(sqrt(x**2 + y**2))/sqrt(x**2 + y**2) - 0.096781975733881*y/sqrt(x**2 + y**2) - 0.995836667858137*y/(x**2 + y**2)**(3/2))/sqrt(x**2 + y**2))*(0.5*sqrt(x**2 + y**2)*log(sqrt(x**2 + y**2)) - 0.596781975733881*sqrt(x**2 + y**2) + 0.995836667858137/sqrt(x**2 + y**2))/sqrt(x**2 + y**2) - 8.59436692696235*sqrt(-x**2/(x**2 + y**2) + 1)*(0.5*sqrt(x**2 + y**2)*log(sqrt(x**2 + y**2)) - 0.596781975733881*sqrt(x**2 + y**2) + 0.995836667858137/sqrt(x**2 + y**2))*(-8.59436692696235*x**2*(0.5*sqrt(x**2 + y**2)*log(sqrt(x**2 + y**2)) - 0.596781975733881*sqrt(x**2 + y**2) + 0.995836667858137/sqrt(x**2 + y**2))/(x**2 + y**2)**(3/2) + 8.59436692696235*x*(0.5*x*log(sqrt(x**2 + y**2))/sqrt(x**2 + y**2) - 0.096781975733881*x/sqrt(x**2 + y**2) - 0.995836667858137*x/(x**2 + y**2)**(3/2))/sqrt(x**2 + y**2) + 8.59436692696235*(0.5*sqrt(x**2 + y**2)*log(sqrt(x**2 + y**2)) - 0.596781975733881*sqrt(x**2 + y**2) + 0.995836667858137/sqrt(x**2 + y**2))/sqrt(x**2 + y**2)) \n",
    "```"
   ]
  },
  {
   "cell_type": "markdown",
   "metadata": {},
   "source": [
    "### FDA nozzle"
   ]
  },
  {
   "cell_type": "markdown",
   "metadata": {},
   "source": [
    "## Three-dimensional test cases"
   ]
  },
  {
   "cell_type": "markdown",
   "metadata": {},
   "source": [
    "### Pipe\n",
    "\n",
    "#### Geometry\n",
    "\n",
    "The domain is a cylinder centered onthe $x-$axis : $\\Omega=[0;L]\\times D(0,R)\\subset\\mathbb R^3$. Default is $L=1,r=0.2$. The curved boundary is labeled `wall`, while the left boundary ($x=0$) is the `inlet` and the right boundary is the `outlet` : $\\Gamma_{wall}=\\{(x,y,z)\\;|\\;y^2+z^2=R^2\\}$, $\\Gamma_{inlet}=\\{(x,y,z)\\;|\\;x=0,\\;y^2+z^2\\leqslant R^2\\}$, $\\Gamma_{outlet}=\\{(x,y,z)\\;|\\;x=L,\\;y^2+z^2\\leqslant r^2\\}$. Thus the flow goes rightwise.\n",
    "\n",
    "The parameter are:\n",
    "\n",
    "* `pin` : inlet pressure on $\\Gamma_{bottom}\n",
    "* `pout` : outlet pressure on $\\Gamma_{top}$\n",
    "* `L` : pipe length\n",
    "* `R` : pipe radius\n",
    "* `nu` : dynamic viscosity\n",
    "\n",
    "#### Equations\n",
    "\n",
    "Line 6 of `pipe-3d.json`, switching between \n",
    "\n",
    "- `\"equations\":\"Stokes\"`\n",
    "- `\"equations\":\"Navier-Stokes\"`\n",
    "\n",
    "allows to solve for either problem.\n",
    "\n",
    "#### Analytical solution\n",
    "\n",
    "The exact solution for Stokes' problem writes :\n",
    "\n",
    "$$\\mathbf u_{ex} = \\left(\\begin{matrix}\\frac{p_{in}-p_{out}}{4*\\nu*L}\\left(r^2-(y^2+z^2)\\right)\\\\0\\\\0\\end{matrix}\\right)$$\n",
    "$$p_{ex} = p_{in} + \\frac{p_{out}-p_{in}}Lx$$\n",
    "\n",
    "An easy computation shows the convective term $(\\mathbf u\\cdot\\nabla)\\mathbf u$ is zero. Thus, the analytical solution is the same for the Navier-Stokes' problem."
   ]
  },
  {
   "cell_type": "markdown",
   "metadata": {},
   "source": [
    "### Curved pipe\n",
    "\n",
    "#### Geometry\n",
    "\n",
    "The domain in polar coordinates $(r,\\theta,z)$ is $\\Omega=[r_1;r_2]\\times[\\alpha_1;\\alpha_1+\\alpha]\\times[0;R]\\subset\\mathbb R^3$. Default is $r_1=1.9,r_2=2.1,R=r_2-r_1,\\alpha_1=\\frac\\pi2,\\alpha=\\frac\\pi6$. The curved, top and bottom boundaries are labeled `wall` and straight boundaries are labeled as follows : $\\Gamma_{in}=[r_1;r_2]\\times\\{\\alpha_1+\\alpha\\}\\times[0;R]$, $\\Gamma_{out}=[r_1;r_2]\\times\\{\\alpha\\}\\times[0;R]$. Thus the flow is clockwise.\n",
    "\n",
    "The parameter are:\n",
    "\n",
    "* `pin` : inlet pressure on $\\Gamma_{in}$\n",
    "* `pout` : outlet pressure on $\\Gamma_{out}$\n",
    "* `r_1` : inner radius\n",
    "* `r_2` : outer radius\n",
    "* `R` : pipe height\n",
    "* `alpha1` : outlet angular position\n",
    "* `alpha` : angle range\n",
    "* `nu` : dynamic viscosity\n",
    "\n",
    "#### Equations\n",
    "\n",
    "Line 6 of `curved-pipe-2d.json`, switching between \n",
    "\n",
    "- `\"equations\":\"Stokes\"`\n",
    "- `\"equations\":\"Navier-Stokes\"`\n",
    "\n",
    "allows to solve for either problem.\n",
    "\n",
    "#### Analytical solution\n",
    "\n",
    "In polar coordinates, the exact solution for Stokes' problem writes\n",
    "\n",
    "$$\\mathbf u_{ex} = \\left(\\begin{matrix}\n",
    "   -(p_{in}-p_{out})\\sqrt{-x^2/(x^2+y^2)+1}(0.5r_1^2r_2^2(\\text{log}(r_1)-\\text{log}(r_2))/(\\sqrt{x^2+y^2}(r_1^2-r_2^2))+0.5\\sqrt{x^2+y^2}\\text{log}(\\sqrt{x^2+y^2})+\\sqrt{x^2+y^2}(-0.5r_1^2\\text{log}(r_1)+0.5r_2^2\\text{log}(r_2))/(r_1^2-r_2^2))/angle\\\\\n",
    "   x(p_{in}-p_{out})(0.5r_1^2r_2^2(\\text{log}(r_1)-\\text{log}(r_2))/(\\sqrt{x^2+y^2}(r_1^2-r_2^2))+0.5\\sqrt{x^2+y^2}\\text{log}(\\sqrt{x^2+y^2})+\\sqrt{x^2+y^2}(-0.5r_1^2\\text{log}(r_1)+0.5r_2^2\\text{log}(r_2))/(r_1^2-r_2^2))/(angle\\sqrt{x^2+y^2})\\\\\n",
    "   0\n",
    "   \\end{matrix}\\right)$$\n",
    "$$p_{ex} = \\frac1\\alpha\\left[p_{in}\\left(-\\alpha_1+\\text{acos}\\left(\\frac x{\\sqrt(x^2+y^2)}\\right)\\right)-p_{out}\\left(-\\alpha-\\alpha_1+\\text{acos}\\left(\\frac x{\\sqrt(x^2+y^2)}\\right)\\right)\\right]$$"
   ]
  },
  {
   "cell_type": "markdown",
   "metadata": {},
   "source": [
    "### FDA nozzle"
   ]
  }
 ],
 "metadata": {
  "interpreter": {
   "hash": "36cf16204b8548560b1c020c4e8fb5b57f0e4c58016f52f2d4be01e192833930"
  },
  "kernelspec": {
   "display_name": "Python 3.9.4 64-bit",
   "language": "python",
   "name": "python3"
  },
  "language_info": {
   "name": "python",
   "version": "3.9.4"
  },
  "orig_nbformat": 4
 },
 "nbformat": 4,
 "nbformat_minor": 2
}
