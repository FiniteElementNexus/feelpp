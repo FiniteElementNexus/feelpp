{
 "cells": [
  {
   "attachments": {},
   "cell_type": "markdown",
   "metadata": {},
   "source": [
    "# Feelpp NIRB Offline\n",
    "\n",
    "## Import useful modules "
   ]
  },
  {
   "cell_type": "code",
   "execution_count": null,
   "metadata": {},
   "outputs": [],
   "source": [
    "import os\n",
    "### discomment above two line ones to add the feelpp path with nirb module in the python environement\n",
    "import sys\n",
    "# feelpath = os.path.join('/data/home/elarif/devel/feelpp/build/python/install/lib/python3/dist-packages')\n",
    "# sys.path.append(feelpath)\n",
    "# print(sys.path)\n",
    "import feelpp\n",
    "from feelpp.mor.nirb import *\n",
    "from feelpp.mor.nirb.nirbOffline import run_offline_pod, run_offline_greedy\n",
    "from feelpp.mor.nirb.utils import init_feelpp_environment\n",
    "from feelpp.mor.nirb.greedy import *\n",
    "import json"
   ]
  },
  {
   "attachments": {},
   "cell_type": "markdown",
   "metadata": {},
   "source": [
    "## Set configuration"
   ]
  },
  {
   "cell_type": "code",
   "execution_count": null,
   "metadata": {},
   "outputs": [],
   "source": [
    "import IPython\n",
    "module_locals = IPython.extract_module_locals()[1]\n",
    "# get directory of the notebook, only working if the notebook is run in vscode\n",
    "if \"__vsc_ipynb_file__\" in module_locals:\n",
    "    model_dir = \"/\".join(module_locals[\"__vsc_ipynb_file__\"].split(\"/\")[:-1]) + \"/model\"\n",
    "# if not, we need to hard code the path...\n",
    "else:\n",
    "    model_dir = \"/home/saigre/Documents/code/feelpp/python/pyfeelpp-mor/feelpp/mor/nirb/model\""
   ]
  },
  {
   "cell_type": "code",
   "execution_count": null,
   "metadata": {},
   "outputs": [],
   "source": [
    "config_file = os.path.join(model_dir, \"square/square.cfg\")\n",
    "config_file"
   ]
  },
  {
   "attachments": {},
   "cell_type": "markdown",
   "metadata": {},
   "source": [
    "Set feelpp environment "
   ]
  },
  {
   "cell_type": "code",
   "execution_count": null,
   "metadata": {},
   "outputs": [],
   "source": [
    "cfg = feelpp.readCfg(config_file)\n",
    "toolboxType = cfg['nirb']['toolboxType']\n",
    "e = init_feelpp_environment(toolboxType, config_file)\n",
    "\n",
    "nirb_file = feelpp.Environment.expand(cfg['nirb']['filename'])\n",
    "config_nirb = feelpp.readJson(nirb_file)['nirb']"
   ]
  },
  {
   "attachments": {},
   "cell_type": "markdown",
   "metadata": {},
   "source": [
    "Get number of initial snapshots. By defaults, it will take the value filled in the model path. "
   ]
  },
  {
   "cell_type": "code",
   "execution_count": null,
   "metadata": {},
   "outputs": [],
   "source": [
    "nbSnap = config_nirb['nbSnapshots']\n",
    "nbSnap"
   ]
  },
  {
   "attachments": {},
   "cell_type": "markdown",
   "metadata": {},
   "source": [
    "Set the output path "
   ]
  },
  {
   "cell_type": "code",
   "execution_count": null,
   "metadata": {},
   "outputs": [],
   "source": [
    "doGreedy = config_nirb['doGreedy']\n",
    "doRectification = config_nirb['doRectification']\n",
    "rectPath = [\"noRect\", \"Rect\"][doRectification]\n",
    "greedyPath = [\"noGreedy\", \"Greedy\"][doGreedy]\n",
    "\n",
    "RESPATH = f\"results/{rectPath}/{greedyPath}\""
   ]
  },
  {
   "attachments": {},
   "cell_type": "markdown",
   "metadata": {},
   "source": [
    "Initialize nirb offline class : either from scratch or from a ToolboxModel already initialized"
   ]
  },
  {
   "cell_type": "code",
   "execution_count": null,
   "metadata": {},
   "outputs": [],
   "source": [
    "generate_from_scratch = False\n",
    "if generate_from_scratch:\n",
    "    nirb_off = nirbOffline(initCoarse=True, **config_nirb)\n",
    "    nirb_off.initModel()\n",
    "\n",
    "else:\n",
    "    tb = ToolboxModel(**config_nirb)\n",
    "    tb.initModel()\n",
    "\n",
    "    nirb_off = nirbOffline(initCoarse=True, **config_nirb)\n",
    "    nirb_off.setModel(tb)"
   ]
  },
  {
   "cell_type": "code",
   "execution_count": null,
   "metadata": {},
   "outputs": [],
   "source": [
    "nirb_off.generateOperators(coarse=True)"
   ]
  },
  {
   "attachments": {},
   "cell_type": "markdown",
   "metadata": {},
   "source": [
    "## Get nirb reduced basis functions "
   ]
  },
  {
   "cell_type": "code",
   "execution_count": null,
   "metadata": {},
   "outputs": [],
   "source": [
    "Xi_train = None\n",
    "\n",
    "if doGreedy:\n",
    "    nirb_on = nirbOnline(**config_nirb)\n",
    "    nirb_on.setModelFromOffline(nirb_off)\n",
    "    tol_greedy = config_nirb['greedy-parameters']['tol']\n",
    "    Nmax_greedy = config_nirb['greedy-parameters']['Nmax']\n",
    "    res = initProblemGreedy(nirb_off, nirb_on, 5, 1000, tol=tol_greedy, Nmax=Nmax_greedy)\n",
    "else:\n",
    "    Xi_train = nirb_off.computeSnapshots(nbSnap)\n",
    "    RIC = nirb_off.generateReducedBasis()\n",
    "\n",
    "print(\"Is L2 orthonormalized ?\", nirb_off.checkL2Orthonormalized())"
   ]
  },
  {
   "attachments": {},
   "cell_type": "markdown",
   "metadata": {},
   "source": [
    "## Save datas"
   ]
  },
  {
   "cell_type": "code",
   "execution_count": null,
   "metadata": {},
   "outputs": [],
   "source": [
    "nirb_off.saveData(RESPATH, force=True)"
   ]
  },
  {
   "attachments": {},
   "cell_type": "markdown",
   "metadata": {},
   "source": [
    "Get infos "
   ]
  },
  {
   "cell_type": "code",
   "execution_count": null,
   "metadata": {},
   "outputs": [],
   "source": [
    "info = nirb_off.getOfflineInfos()\n",
    "\n",
    "print(json.dumps(info, sort_keys=False, indent=4))\n",
    "print(f\"[NIRB] Offline part Done !\")"
   ]
  }
 ],
 "metadata": {
  "kernelspec": {
   "display_name": "Python 3",
   "language": "python",
   "name": "python3"
  },
  "language_info": {
   "codemirror_mode": {
    "name": "ipython",
    "version": 3
   },
   "file_extension": ".py",
   "mimetype": "text/x-python",
   "name": "python",
   "nbconvert_exporter": "python",
   "pygments_lexer": "ipython3",
   "version": "3.10.6"
  },
  "orig_nbformat": 4,
  "vscode": {
   "interpreter": {
    "hash": "31f2aee4e71d21fbe5cf8b01ff0e069b9275f58929596ceb00d14d90e3e16cd6"
   }
  }
 },
 "nbformat": 4,
 "nbformat_minor": 2
}
