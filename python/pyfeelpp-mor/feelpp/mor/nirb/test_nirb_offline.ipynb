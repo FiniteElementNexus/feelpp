{
 "cells": [
  {
   "attachments": {},
   "cell_type": "markdown",
   "metadata": {},
   "source": [
    "# Feelpp NIRB Offline\n",
    "\n",
    "## Import useful modules "
   ]
  },
  {
   "cell_type": "code",
   "execution_count": null,
   "metadata": {},
   "outputs": [],
   "source": [
    "import sys\n",
    "import os\n",
    "### discomment above two line ones to add the feelpp path with nirb module in the python environement\n",
    "# feelpath = os.path.join('/data/home/elarif/devel/feelpp/build/python/install/lib/python3/dist-packages')\n",
    "# sys.path.append(feelpath)\n",
    "# print(sys.path)\n",
    "from feelpp.mor.nirb.nirb import *\n",
    "from feelpp.mor.nirb.utils import init_feelpp_environment\n",
    "import time\n",
    "import json"
   ]
  },
  {
   "attachments": {},
   "cell_type": "markdown",
   "metadata": {},
   "source": [
    "## Set configuration"
   ]
  },
  {
   "cell_type": "code",
   "execution_count": null,
   "metadata": {},
   "outputs": [],
   "source": [
    "import IPython\n",
    "module_locals = IPython.extract_module_locals()[1]\n",
    "# get directory of the notebook, only working if the notebook is run in vscode\n",
    "if \"__vsc_ipynb_file__\" in module_locals:\n",
    "    model_dir = \"/\".join(module_locals[\"__vsc_ipynb_file__\"].split(\"/\")[:-1]) + \"/model\"\n",
    "# if not, we need to hard code the path...\n",
    "else:\n",
    "    model_dir = \"/home/saigre/Documents/code/feelpp/python/pyfeelpp-mor/feelpp/mor/nirb/model\""
   ]
  },
  {
   "cell_type": "code",
   "execution_count": null,
   "metadata": {},
   "outputs": [],
   "source": [
    "config_file = os.path.join(model_dir, \"square/square.cfg\")\n",
    "N = None # number of initiale snapshot \n",
    "greedy_tol = 1.e-5 # convergence criteria of Greedy method\n",
    "Nmax_greedy = 100\n",
    "outdir = None "
   ]
  },
  {
   "attachments": {},
   "cell_type": "markdown",
   "metadata": {},
   "source": [
    "Set feelpp environment "
   ]
  },
  {
   "cell_type": "code",
   "execution_count": null,
   "metadata": {},
   "outputs": [],
   "source": [
    "cfg = feelpp.readCfg(config_file)\n",
    "toolboxType = cfg['nirb']['toolboxType']\n",
    "e = init_feelpp_environment(toolboxType, config_file)\n",
    "\n",
    "nirb_file = feelpp.Environment.expand(cfg['nirb']['filename'])\n",
    "config_nirb = feelpp.readJson(nirb_file)['nirb']"
   ]
  },
  {
   "attachments": {},
   "cell_type": "markdown",
   "metadata": {},
   "source": [
    "Get number of initial snapshots. By defaults, it will take the value filled in the model path. "
   ]
  },
  {
   "cell_type": "code",
   "execution_count": null,
   "metadata": {},
   "outputs": [],
   "source": [
    "nbSnap = N\n",
    "if nbSnap == None:\n",
    "    nbSnap = config_nirb['nbSnapshots']"
   ]
  },
  {
   "attachments": {},
   "cell_type": "markdown",
   "metadata": {},
   "source": [
    "Set the output path "
   ]
  },
  {
   "cell_type": "code",
   "execution_count": null,
   "metadata": {},
   "outputs": [],
   "source": [
    "# doGreedy = config_nirb['greedy-generation']\n",
    "doGreedy = False\n",
    "doRectification = config_nirb['doRectification']\n",
    "rectPath = [\"noRect\", \"Rect\"][doRectification]\n",
    "greedyPath = [\"noGreedy\", \"Greedy\"][doGreedy]\n",
    "\n",
    "if outdir is None:\n",
    "    RESPATH = f\"results/{rectPath}/{greedyPath}\"\n",
    "else:\n",
    "    RESPATH = outdir"
   ]
  },
  {
   "attachments": {},
   "cell_type": "markdown",
   "metadata": {},
   "source": [
    "Initialize nirb offline class : either from scratch or from a ToolboxModel already initialized"
   ]
  },
  {
   "cell_type": "code",
   "execution_count": null,
   "metadata": {},
   "outputs": [],
   "source": [
    "generate_from_scratch = False\n",
    "if generate_from_scratch:\n",
    "    nirb_off = nirbOffline(initCoarse=True, **config_nirb)\n",
    "    nirb_off.initModel()\n",
    "\n",
    "else:\n",
    "    tb = ToolboxModel(**config_nirb)\n",
    "    tb.initModel()\n",
    "\n",
    "    nirb_off = nirbOffline(initCoarse=True, **config_nirb)\n",
    "    nirb_off.setModel(tb)"
   ]
  },
  {
   "cell_type": "code",
   "execution_count": null,
   "metadata": {},
   "outputs": [],
   "source": [
    "nirb_off.generateOperators(coarse=True)"
   ]
  },
  {
   "attachments": {},
   "cell_type": "markdown",
   "metadata": {},
   "source": [
    "## Get nirb reduced basis functions "
   ]
  },
  {
   "cell_type": "code",
   "execution_count": null,
   "metadata": {},
   "outputs": [],
   "source": [
    "Xi_train = None\n",
    "\n",
    "if doGreedy:\n",
    "    _, Xi_train, _ = nirb_off.initProblemGreedy(500, greedy_tol, Nmax=Nmax_greedy, Xi_train=Xi_train, computeCoarse=True, samplingMode=\"log-random\")\n",
    "else:\n",
    "    Xi_train = nirb_off.initProblem(nbSnap)\n",
    "nirb_off.generateReducedBasis()\n",
    "\n",
    "print(\"Is L2 orthonormalized ?\", nirb_off.checkL2Orthonormalized())\n"
   ]
  },
  {
   "attachments": {},
   "cell_type": "markdown",
   "metadata": {},
   "source": [
    "## Save datas"
   ]
  },
  {
   "cell_type": "code",
   "execution_count": null,
   "metadata": {},
   "outputs": [],
   "source": [
    "nirb_off.saveData(RESPATH, force=True)"
   ]
  },
  {
   "attachments": {},
   "cell_type": "markdown",
   "metadata": {},
   "source": [
    "Get infos "
   ]
  },
  {
   "cell_type": "code",
   "execution_count": null,
   "metadata": {},
   "outputs": [],
   "source": [
    "info = nirb_off.getOfflineInfos()\n",
    "\n",
    "if feelpp.Environment.isMasterRank():\n",
    "    print(json.dumps(info, sort_keys=False, indent=4))\n",
    "    print(f\"[NIRB] Offline part Done !\")"
   ]
  }
 ],
 "metadata": {
  "kernelspec": {
   "display_name": "Python 3",
   "language": "python",
   "name": "python3"
  },
  "language_info": {
   "codemirror_mode": {
    "name": "ipython",
    "version": 3
   },
   "file_extension": ".py",
   "mimetype": "text/x-python",
   "name": "python",
   "nbconvert_exporter": "python",
   "pygments_lexer": "ipython3",
   "version": "3.10.6"
  },
  "orig_nbformat": 4,
  "vscode": {
   "interpreter": {
    "hash": "31f2aee4e71d21fbe5cf8b01ff0e069b9275f58929596ceb00d14d90e3e16cd6"
   }
  }
 },
 "nbformat": 4,
 "nbformat_minor": 2
}
