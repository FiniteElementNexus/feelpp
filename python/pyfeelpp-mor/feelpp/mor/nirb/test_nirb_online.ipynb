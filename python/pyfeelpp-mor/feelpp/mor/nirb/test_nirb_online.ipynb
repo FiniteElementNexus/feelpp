{
 "cells": [
  {
   "attachments": {},
   "cell_type": "markdown",
   "metadata": {},
   "source": [
    "# Feelpp NIRB Online\n",
    "\n",
    "# Import useful modules "
   ]
  },
  {
   "cell_type": "code",
   "execution_count": null,
   "metadata": {},
   "outputs": [],
   "source": [
    "import sys\n",
    "import os\n",
    "### uncomment above two line ones to add the feelpp path with nirb module in the python environement\n",
    "# feelpath = os.path.join('/data/home/elarif/devel/feelpp/build/python/install/lib/python3/dist-packages')\n",
    "# sys.path.append(feelpath)\n",
    "from feelpp.mor.nirb.nirb import *\n",
    "from feelpp.mor.nirb.utils import init_feelpp_environment\n",
    "from feelpp.mor.nirb.nirb_perf import ComputeErrorSampling, ComputeErrors\n",
    "import time\n",
    "import json\n",
    "import pandas as pd"
   ]
  },
  {
   "attachments": {},
   "cell_type": "markdown",
   "metadata": {},
   "source": [
    "## Set configuration"
   ]
  },
  {
   "cell_type": "code",
   "execution_count": null,
   "metadata": {},
   "outputs": [],
   "source": [
    "import IPython\n",
    "module_locals = IPython.extract_module_locals()[1]\n",
    "# get directory of the notebook, only working if the notebook is run in vscode\n",
    "if \"__vsc_ipynb_file__\" in module_locals:\n",
    "    model_dir = \"/\".join(module_locals[\"__vsc_ipynb_file__\"].split(\"/\")[:-1]) + \"/model\"\n",
    "# if not, we need to hard code the path...\n",
    "else:\n",
    "    model_dir = \"/home/saigre/Documents/code/feelpp/python/pyfeelpp-mor/feelpp/mor/nirb/model\""
   ]
  },
  {
   "attachments": {},
   "cell_type": "markdown",
   "metadata": {},
   "source": [
    "Choose config file"
   ]
  },
  {
   "cell_type": "code",
   "execution_count": null,
   "metadata": {},
   "outputs": [],
   "source": [
    "config_file = os.path.join(model_dir, \"square/square.cfg\")\n",
    "N = None # number of basis function saved\n",
    "outdir = None"
   ]
  },
  {
   "attachments": {},
   "cell_type": "markdown",
   "metadata": {},
   "source": [
    "Set feelpp environnement "
   ]
  },
  {
   "cell_type": "code",
   "execution_count": null,
   "metadata": {},
   "outputs": [],
   "source": [
    "cfg = feelpp.readCfg(config_file)\n",
    "toolboxType = cfg['nirb']['toolboxType']\n",
    "e = init_feelpp_environment(toolboxType, config_file)\n",
    "\n",
    "nirb_file = feelpp.Environment.expand(cfg['nirb']['filename'])\n",
    "config_nirb = feelpp.readJson(nirb_file)['nirb']"
   ]
  },
  {
   "attachments": {},
   "cell_type": "markdown",
   "metadata": {},
   "source": [
    "Get number of basis functions saved. By defaults, it will take the value filled in the model path. "
   ]
  },
  {
   "cell_type": "code",
   "execution_count": null,
   "metadata": {},
   "outputs": [],
   "source": [
    "nbSnap = N\n",
    "if nbSnap == None:\n",
    "    nbSnap = config_nirb['nbSnapshots']"
   ]
  },
  {
   "attachments": {},
   "cell_type": "markdown",
   "metadata": {},
   "source": [
    "Set the input/output path "
   ]
  },
  {
   "cell_type": "code",
   "execution_count": null,
   "metadata": {},
   "outputs": [],
   "source": [
    "# doGreedy = config_nirb['greedy-generation']\n",
    "doGreedy = False\n",
    "doRectification = config_nirb['doRectification']\n",
    "rectPath = [\"noRect\", \"Rect\"][doRectification]\n",
    "greedyPath = [\"noGreedy\", \"Greedy\"][doGreedy]\n",
    "\n",
    "if outdir is None:\n",
    "    RESPATH = f\"results/{rectPath}/{greedyPath}\"\n",
    "else:\n",
    "    RESPATH = outdir"
   ]
  },
  {
   "attachments": {},
   "cell_type": "markdown",
   "metadata": {},
   "source": [
    "Initialize nirb offline class "
   ]
  },
  {
   "cell_type": "code",
   "execution_count": null,
   "metadata": {},
   "outputs": [],
   "source": [
    "nirb_on = nirbOnline(**config_nirb)\n",
    "nirb_on.initModel()"
   ]
  },
  {
   "attachments": {},
   "cell_type": "markdown",
   "metadata": {},
   "source": [
    "## Load offline data"
   ]
  },
  {
   "cell_type": "code",
   "execution_count": null,
   "metadata": {},
   "outputs": [],
   "source": [
    "err = nirb_on.loadData(path=RESPATH, nbSnap=nbSnap)\n",
    "assert err == 0, \"Error while loading data\""
   ]
  },
  {
   "attachments": {},
   "cell_type": "markdown",
   "metadata": {},
   "source": [
    "Choose the parameter to cumpute nirb approximate solution "
   ]
  },
  {
   "cell_type": "code",
   "execution_count": null,
   "metadata": {},
   "outputs": [],
   "source": [
    "mu = nirb_on.Dmu.mumin() # get the min value of parameters given in the model\n",
    "mu.view()"
   ]
  },
  {
   "attachments": {},
   "cell_type": "markdown",
   "metadata": {},
   "source": [
    "Compute approximate solution "
   ]
  },
  {
   "cell_type": "code",
   "execution_count": null,
   "metadata": {},
   "outputs": [],
   "source": [
    "uHh = nirb_on.getOnlineSol(mu)\n",
    "uh = nirb_on.getToolboxSolution(nirb_on.tbFine, mu)"
   ]
  },
  {
   "cell_type": "code",
   "execution_count": null,
   "metadata": {},
   "outputs": [],
   "source": [
    "l2Mat = nirb_on.generateOperators()\n",
    "print(nirb_on.normMat(uHh - uh, l2Mat))\n",
    "print((uHh - uh).linftyNorm())"
   ]
  },
  {
   "cell_type": "code",
   "execution_count": null,
   "metadata": {},
   "outputs": [],
   "source": [
    "exporterName = [\"ExporterNoRect\", \"ExporterRect\"][doRectification]\n",
    "nirb_on.initExporter(\"exporterName\")\n",
    "nirb_on.exportField(uHh, \"uHh\")\n",
    "nirb_on.exportField(uh, \"uh\")\n",
    "nirb_on.saveExporter()"
   ]
  },
  {
   "attachments": {},
   "cell_type": "markdown",
   "metadata": {},
   "source": [
    "Get solution for different size of subspaces"
   ]
  },
  {
   "cell_type": "code",
   "execution_count": null,
   "metadata": {},
   "outputs": [],
   "source": [
    "solutions = []\n",
    "for n in range(1, nirb_on.N+1):\n",
    "    solutions.append(nirb_on.getOnlineSol(mu, n))"
   ]
  },
  {
   "cell_type": "code",
   "execution_count": null,
   "metadata": {},
   "outputs": [],
   "source": [
    "nirb_on.initExporter(\"NirbN\")\n",
    "nirb_on.exportField(uh, \"uh\")\n",
    "for i, uHnN in enumerate(solutions):\n",
    "    nirb_on.exportField(uHnN, f\"uHn{i+1:02}\")\n",
    "nirb_on.saveExporter()"
   ]
  },
  {
   "attachments": {},
   "cell_type": "markdown",
   "metadata": {},
   "source": [
    "# NIRB perfs\n",
    "\n",
    "We can compare the above nirb solution with the FE one."
   ]
  },
  {
   "cell_type": "code",
   "execution_count": null,
   "metadata": {},
   "outputs": [],
   "source": [
    "errorN = ComputeErrors(nirb_on, mu, h1=True)\n",
    "df = pd.DataFrame(errorN)\n",
    "df['N'] = nirb_on.N"
   ]
  },
  {
   "attachments": {},
   "cell_type": "markdown",
   "metadata": {},
   "source": [
    "### Display errors "
   ]
  },
  {
   "cell_type": "code",
   "execution_count": null,
   "metadata": {},
   "outputs": [],
   "source": [
    "if feelpp.Environment.isMasterRank():\n",
    "    print(f\"[NIRB online] with {nirb_on.N} basis functions \")\n",
    "    print(f\"[NIRB online] Convergence error between nirb and FE solution \")\n",
    "    print(df.head())"
   ]
  },
  {
   "attachments": {},
   "cell_type": "markdown",
   "metadata": {},
   "source": [
    "Or get error on a sampling of parameters.\n",
    "This will compare the NIRB solution with the FE one on the fine mesh computed from parameter in the sampling (takes little time)."
   ]
  },
  {
   "cell_type": "code",
   "execution_count": null,
   "metadata": {},
   "outputs": [],
   "source": [
    "Nsample = 30\n",
    "errorN = ComputeErrorSampling(nirb_on, Nsample=Nsample, h1=True)\n",
    "df = pd.DataFrame(errorN)\n",
    "df['N'] = nirb_on.N"
   ]
  },
  {
   "attachments": {},
   "cell_type": "markdown",
   "metadata": {},
   "source": [
    "### Display errors "
   ]
  },
  {
   "cell_type": "code",
   "execution_count": null,
   "metadata": {},
   "outputs": [],
   "source": [
    "if feelpp.Environment.isMasterRank():\n",
    "    print(f\"[NIRB online] with {nirb_on.N} basis functions \")\n",
    "    print(f\"[NIRB online] Error on a sampling of {df.shape[0]} parameters \")\n",
    "    data_mean = df.mean(axis=0)\n",
    "    print(\"[NIRB online] Mean of errors \")\n",
    "    print(data_mean)\n",
    "    data_min = df.min(axis=0)\n",
    "    print(\"[NIRB online] Min of errors \")\n",
    "    print(data_min)\n",
    "    data_max = df.max(axis=0)\n",
    "    print(\"[NIRB online] Max of errors \")\n",
    "    print(data_max)"
   ]
  },
  {
   "attachments": {},
   "cell_type": "markdown",
   "metadata": {},
   "source": [
    "Save covergence error values in a `csv` file for making statistics or vizualisation   "
   ]
  },
  {
   "cell_type": "code",
   "execution_count": null,
   "metadata": {},
   "outputs": [],
   "source": [
    "file = os.path.join(RESPATH, f\"errors{Nsample}Params.csv\")\n",
    "header = not os.path.isfile(file)\n",
    "df.to_csv(file, mode='a', index=False, header=header)"
   ]
  }
 ],
 "metadata": {
  "kernelspec": {
   "display_name": "Python 3 (ipykernel)",
   "language": "python",
   "name": "python3"
  },
  "language_info": {
   "codemirror_mode": {
    "name": "ipython",
    "version": 3
   },
   "file_extension": ".py",
   "mimetype": "text/x-python",
   "name": "python",
   "nbconvert_exporter": "python",
   "pygments_lexer": "ipython3",
   "version": "3.10.6"
  },
  "vscode": {
   "interpreter": {
    "hash": "916dbcbb3f70747c44a77c7bcd40155683ae19c65e1c03b4aa3499c5328201f1"
   }
  }
 },
 "nbformat": 4,
 "nbformat_minor": 2
}
