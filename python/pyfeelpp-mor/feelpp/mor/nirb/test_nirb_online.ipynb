{
 "cells": [
  {
   "attachments": {},
   "cell_type": "markdown",
   "metadata": {},
   "source": [
    "# Feelpp NIRB Online\n",
    "\n",
    "# Import useful modules "
   ]
  },
  {
   "cell_type": "code",
   "execution_count": null,
   "metadata": {},
   "outputs": [],
   "source": [
    "import os\n",
    "### uncomment above two line ones to add the feelpp path with nirb module in the python environement\n",
    "# feelpath = os.path.join('/data/home/elarif/devel/feelpp/build/python/install/lib/python3/dist-packages')\n",
    "# sys.path.append(feelpath)\n",
    "import feelpp\n",
    "from feelpp.mor.nirb import *\n",
    "from feelpp.mor.nirb.utils import init_feelpp_environment\n",
    "from feelpp.mor.nirb.nirb_perf import computeErrorSampling, computeError\n",
    "import pandas as pd"
   ]
  },
  {
   "attachments": {},
   "cell_type": "markdown",
   "metadata": {},
   "source": [
    "## Set configuration"
   ]
  },
  {
   "cell_type": "code",
   "execution_count": null,
   "metadata": {},
   "outputs": [],
   "source": [
    "import IPython\n",
    "module_locals = IPython.extract_module_locals()[1]\n",
    "# get directory of the notebook, only working if the notebook is run in vscode\n",
    "if \"__vsc_ipynb_file__\" in module_locals:\n",
    "    model_dir = \"/\".join(module_locals[\"__vsc_ipynb_file__\"].split(\"/\")[:-1]) + \"/model\"\n",
    "# if not, we need to hard code the path...\n",
    "else:\n",
    "    model_dir = \"/home/saigre/Documents/code/feelpp/python/pyfeelpp-mor/feelpp/mor/nirb/model\""
   ]
  },
  {
   "attachments": {},
   "cell_type": "markdown",
   "metadata": {},
   "source": [
    "Choose config file"
   ]
  },
  {
   "cell_type": "code",
   "execution_count": null,
   "metadata": {},
   "outputs": [],
   "source": [
    "config_file = os.path.join(model_dir, \"square/square.cfg\")"
   ]
  },
  {
   "attachments": {},
   "cell_type": "markdown",
   "metadata": {},
   "source": [
    "Set feelpp environnement "
   ]
  },
  {
   "cell_type": "code",
   "execution_count": null,
   "metadata": {},
   "outputs": [],
   "source": [
    "cfg = feelpp.readCfg(config_file)\n",
    "toolboxType = cfg['nirb']['toolboxType']\n",
    "e = init_feelpp_environment(toolboxType, config_file)\n",
    "\n",
    "nirb_file = feelpp.Environment.expand(cfg['nirb']['filename'])\n",
    "config_nirb = feelpp.readJson(nirb_file)['nirb']"
   ]
  },
  {
   "attachments": {},
   "cell_type": "markdown",
   "metadata": {},
   "source": [
    "Get number of basis functions saved. By defaults, it will take the value filled in the model path. "
   ]
  },
  {
   "cell_type": "code",
   "execution_count": null,
   "metadata": {},
   "outputs": [],
   "source": [
    "nbSnap = config_nirb['nbSnapshots']\n",
    "nbSnap"
   ]
  },
  {
   "attachments": {},
   "cell_type": "markdown",
   "metadata": {},
   "source": [
    "Set the input/output path "
   ]
  },
  {
   "cell_type": "code",
   "execution_count": null,
   "metadata": {},
   "outputs": [],
   "source": [
    "doGreedy = config_nirb['doGreedy']\n",
    "doRectification = config_nirb['doRectification']\n",
    "rectPath = [\"noRect\", \"Rect\"][doRectification]\n",
    "greedyPath = [\"noGreedy\", \"Greedy\"][doGreedy]\n",
    "\n",
    "RESPATH = f\"results/{rectPath}/{greedyPath}\""
   ]
  },
  {
   "attachments": {},
   "cell_type": "markdown",
   "metadata": {},
   "source": [
    "Initialize nirb offline class "
   ]
  },
  {
   "cell_type": "code",
   "execution_count": null,
   "metadata": {},
   "outputs": [],
   "source": [
    "nirb_on = nirbOnline(**config_nirb)\n",
    "nirb_on.initModel()"
   ]
  },
  {
   "attachments": {},
   "cell_type": "markdown",
   "metadata": {},
   "source": [
    "## Load offline data"
   ]
  },
  {
   "cell_type": "code",
   "execution_count": null,
   "metadata": {},
   "outputs": [],
   "source": [
    "RESPATH = \"/home/saigre/Documents/DELETE_ME/nirb/heat/np_1/results/Rect/noGreedy\"\n",
    "RESPATH"
   ]
  },
  {
   "cell_type": "code",
   "execution_count": null,
   "metadata": {},
   "outputs": [],
   "source": [
    "err = nirb_on.loadData(path=RESPATH)\n",
    "assert err == 0, \"Error while loading data\""
   ]
  },
  {
   "cell_type": "code",
   "execution_count": null,
   "metadata": {},
   "outputs": [],
   "source": [
    "print(f\"[NIRB Online] nirb_on has {nirb_on.N} basis vectors\")"
   ]
  },
  {
   "attachments": {},
   "cell_type": "markdown",
   "metadata": {},
   "source": [
    "Choose the parameter to cumpute nirb approximate solution "
   ]
  },
  {
   "cell_type": "code",
   "execution_count": null,
   "metadata": {},
   "outputs": [],
   "source": [
    "mu = nirb_on.Dmu.element() # get the min value of parameters given in the model\n",
    "mu.setParameters([0.1, 0.1, 0.5, 0.1])\n",
    "mu.view()"
   ]
  },
  {
   "attachments": {},
   "cell_type": "markdown",
   "metadata": {},
   "source": [
    "Compute approximate solution "
   ]
  },
  {
   "cell_type": "code",
   "execution_count": 12,
   "metadata": {},
   "outputs": [
    {
     "name": "stdout",
     "output_type": "stream",
     "text": [
      "[NIRB] Online part Done !\n"
     ]
    }
   ],
   "source": [
    "if feelpp.Environment.isMasterRank():\n",
    "    print(f\"[NIRB] Online part Done !\")"
   ]
  },
  {
   "attachments": {},
   "cell_type": "markdown",
   "metadata": {},
   "source": [
    "# NIRB perfs "
   ]
  },
  {
   "attachments": {},
   "cell_type": "markdown",
   "metadata": {},
   "outputs": [],
   "source": [
    "uHh = nirb_on.getOnlineSolution(mu, doRectification=False)\n",
    "uHhR = nirb_on.getOnlineSolution(mu, doRectification=True)\n",
    "uh = nirb_on.getFineSolution(mu)"
   ]
  },
  {
   "cell_type": "code",
   "execution_count": null,
   "metadata": {},
   "outputs": [],
   "source": [
    "l2Mat = nirb_on.generateOperators()"
   ]
  },
  {
   "cell_type": "code",
   "execution_count": null,
   "metadata": {},
   "outputs": [],
   "source": [
    "print(f\"{'Error':>12} {'w/o rect':<20} {'w/ rect':<20}\")\n",
    "print(f\"{'Error Xh':>12} {nirb_on.normMat(uHh - uh, l2Mat):<20} {nirb_on.normMat(uHhR - uh, l2Mat):<20}\", )\n",
    "print(f\"{'Error L_inf':>12} {(uHh - uh).linftyNorm():<20} {(uHhR - uh).linftyNorm():<20}\", )"
   ]
  },
  {
   "cell_type": "code",
   "execution_count": null,
   "metadata": {},
   "outputs": [],
   "source": [
    "nirb_on.initExporter(\"NirbOnline1param\")\n",
    "nirb_on.exportField(uHh, \"uHh\")\n",
    "nirb_on.exportField(uHhR, \"uhR\")\n",
    "nirb_on.exportField(uh, \"uh\")\n",
    "nirb_on.saveExporter()"
   ]
  },
  {
   "attachments": {},
   "cell_type": "markdown",
   "metadata": {},
   "source": [
    "Get solution for different size of subspaces"
   ]
  },
  {
   "cell_type": "code",
   "execution_count": null,
   "metadata": {},
   "outputs": [],
   "source": [
    "solutions = []\n",
    "for n in range(1, nirb_on.N+1):\n",
    "    solutions.append(nirb_on.getOnlineSolution(mu, n))"
   ]
  },
  {
   "cell_type": "code",
   "execution_count": null,
   "metadata": {},
   "outputs": [],
   "source": [
    "nirb_on.initExporter(\"NirbN\")\n",
    "nirb_on.exportField(uh, \"uh\")\n",
    "for i, uHnN in enumerate(solutions):\n",
    "    nirb_on.exportField(uHnN, f\"uHn{i+1:02}\")\n",
    "    nirb_on.exportField(uh - uHnN, f\"diff{i+1:02}\")\n",
    "nirb_on.saveExporter()"
   ]
  }
 ],
 "metadata": {
  "kernelspec": {
   "display_name": "Python 3 (ipykernel)",
   "language": "python",
   "name": "python3"
  },
  "language_info": {
   "codemirror_mode": {
    "name": "ipython",
    "version": 3
   },
   "file_extension": ".py",
   "mimetype": "text/x-python",
   "name": "python",
   "nbconvert_exporter": "python",
   "pygments_lexer": "ipython3",
   "version": "3.10.6"
  },
  "vscode": {
   "interpreter": {
    "hash": "916dbcbb3f70747c44a77c7bcd40155683ae19c65e1c03b4aa3499c5328201f1"
   }
  }
 },
 "nbformat": 4,
 "nbformat_minor": 2
}
