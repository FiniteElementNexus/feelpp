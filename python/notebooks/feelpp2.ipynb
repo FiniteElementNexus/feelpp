{
 "cells": [
  {
   "cell_type": "code",
   "execution_count": 1,
   "metadata": {},
   "outputs": [
    {
     "name": "stdout",
     "output_type": "stream",
     "text": [
      "['/nvme0/prudhomm/Devel/feelpp.quickfix/RHT/feelpp/build/python/install/lib/python3/dist-packages', '/nvme0/prudhomm/Devel/feelpp.quickfix/RHT/feelpp/python/notebooks', '/usr/lib/python310.zip', '/usr/lib/python3.10', '/usr/lib/python3.10/lib-dynload', '', '/home/u2/prudhomm/.local/lib/python3.10/site-packages', '/usr/local/lib/python3.10/dist-packages', '/usr/lib/python3/dist-packages', '/usr/lib/petsc/lib/python3/dist-packages', '/usr/lib/mshr/python3/dist-packages', '/usr/lib/slepc/lib/python3/dist-packages', '/usr/lib/python3.10/dist-packages', '/usr/lib/python3/dist-packages/IPython/extensions', '/home/u2/prudhomm/.ipython']\n"
     ]
    }
   ],
   "source": [
    "import sys,os\n",
    "dev_mode = True\n",
    "preset = 'python'\n",
    "\n",
    "if dev_mode:\n",
    "    try:\n",
    "        install_prefix = os.environ['CMAKE_INSTALL_PREFIX']\n",
    "        print(f'Using CMAKE_INSTALL_PREFIX={install_prefix}')\n",
    "    except KeyError:\n",
    "        install_prefix = f'../../build/{preset}/install'\n",
    "    print(f'Using install_prefix={install_prefix}')\n",
    "    if os.path.exists(f'{install_prefix}/lib/python3/dist-packages'):\n",
    "        if os.path.abspath(install_prefix)=='/usr':\n",
    "            sys.path.append(os.path.abspath(f'{install_prefix}/lib/python3/dist-packages'))\n",
    "        else:\n",
    "            sys.path.insert(0, os.path.abspath(f'{install_prefix}/lib/python3/dist-packages'))\n",
    "    print(sys.path)"
   ]
  },
  {
   "cell_type": "code",
   "execution_count": 8,
   "metadata": {},
   "outputs": [
    {
     "name": "stdout",
     "output_type": "stream",
     "text": [
      "feelpp loaded from /home/saigre/Documents/code/feelpp-dev/build/python/install/lib/python3/dist-packages/feelpp/__init__.py\n"
     ]
    }
   ],
   "source": [
    "import feelpp\n",
    "print(f\"feelpp loaded from {feelpp.__file__}\")\n",
    "\n",
    "import feelpp.toolboxes.core as core\n",
    "from feelpp.toolboxes.heat import *\n",
    "import numpy as np"
   ]
  },
  {
   "cell_type": "code",
   "execution_count": 3,
   "metadata": {},
   "outputs": [],
   "source": [
    "sys.argv = ['feelpp2']\n",
    "e = feelpp.Environment( sys.argv,config=feelpp.localRepository(\"feelpp2\"), \n",
    "                      opts = feelpp.backend_options(\"Iv\")\n",
    "                            .add(core.toolboxes_options(\"electric\"))\n",
    "                            .add(core.toolboxes_options(\"fluid\"))\n",
    "                            .add(core.toolboxes_options(\"heat\"))\n",
    "                            .add(core.toolboxes_options(\"solid\"))\n",
    "                            .add(core.toolboxes_options(\"heat-fluid\"))\n",
    "                            .add(core.toolboxes_options(\"thermo-electric\"))\n",
    "                            .add(core.toolboxes_options(\"coefficient-form-pdes\", \"cfpdes\")))"
   ]
  },
  {
   "cell_type": "code",
   "execution_count": 4,
   "metadata": {},
   "outputs": [
    {
     "name": "stderr",
     "output_type": "stream",
     "text": [
      "100%|██████████| 40/40 [00:18<00:00,  2.14it/s]"
     ]
    },
    {
     "name": "stdout",
     "output_type": "stream",
     "text": [
      "Success : True\n"
     ]
    },
    {
     "name": "stderr",
     "output_type": "stream",
     "text": [
      "\n"
     ]
    }
   ],
   "source": [
    "heat_cases = [\n",
    "#    ('heat/Building/ThermalBridgesENISO10211/case2.cfg', 2, 1),\n",
    "#    ('heat/Building/ThermalBridgesENISO10211/case2.cfg', 2, 2),\n",
    "#    ('heat/test_time-stepping/test.cfg', 2, 1),\n",
    "#    ('heat/test_time-stepping/test.cfg', 2, 2),\n",
    "    ('heat/thermo2d/thermo2d.cfg', 2, 1),\n",
    "#    ('heat/thermo2d/thermo2d.cfg', 2, 2)\n",
    "]\n",
    "\n",
    "for casefile,dim,order in heat_cases:\n",
    "    feelpp.Environment.setConfigFile(casefile)\n",
    "    f = heat(dim=dim, order=order)\n",
    "    if not f.isStationary():\n",
    "        f.setTimeFinal(1)\n",
    "    [ok,meas]=simulate(f)\n",
    "\n",
    "    ok = f.checkResults()\n",
    "    print(f\"Success : {ok}\")\n"
   ]
  },
  {
   "cell_type": "code",
   "execution_count": 1,
   "metadata": {},
   "outputs": [
    {
     "ename": "NameError",
     "evalue": "name 'meas' is not defined",
     "output_type": "error",
     "traceback": [
      "\u001b[0;31m---------------------------------------------------------------------------\u001b[0m",
      "\u001b[0;31mNameError\u001b[0m                                 Traceback (most recent call last)",
      "\u001b[0;32m<ipython-input-1-882504f2827c>\u001b[0m in \u001b[0;36m<module>\u001b[0;34m\u001b[0m\n\u001b[1;32m      3\u001b[0m \u001b[0;32mimport\u001b[0m \u001b[0mpandas\u001b[0m \u001b[0;32mas\u001b[0m \u001b[0mpd\u001b[0m\u001b[0;34m\u001b[0m\u001b[0;34m\u001b[0m\u001b[0m\n\u001b[1;32m      4\u001b[0m \u001b[0;34m\u001b[0m\u001b[0m\n\u001b[0;32m----> 5\u001b[0;31m \u001b[0mdf\u001b[0m \u001b[0;34m=\u001b[0m \u001b[0mpd\u001b[0m\u001b[0;34m.\u001b[0m\u001b[0mDataFrame\u001b[0m\u001b[0;34m(\u001b[0m\u001b[0mmeas\u001b[0m\u001b[0;34m)\u001b[0m\u001b[0;34m\u001b[0m\u001b[0;34m\u001b[0m\u001b[0m\n\u001b[0m\u001b[1;32m      6\u001b[0m \u001b[0mfig\u001b[0m \u001b[0;34m=\u001b[0m \u001b[0mgo\u001b[0m\u001b[0;34m.\u001b[0m\u001b[0mFigure\u001b[0m\u001b[0;34m(\u001b[0m\u001b[0;34m)\u001b[0m\u001b[0;34m\u001b[0m\u001b[0;34m\u001b[0m\u001b[0m\n\u001b[1;32m      7\u001b[0m \u001b[0mfig\u001b[0m\u001b[0;34m.\u001b[0m\u001b[0madd_trace\u001b[0m\u001b[0;34m(\u001b[0m\u001b[0mgo\u001b[0m\u001b[0;34m.\u001b[0m\u001b[0mScatter\u001b[0m\u001b[0;34m(\u001b[0m\u001b[0mx\u001b[0m\u001b[0;34m=\u001b[0m\u001b[0mdf\u001b[0m\u001b[0;34m[\u001b[0m\u001b[0;34m'time'\u001b[0m\u001b[0;34m]\u001b[0m\u001b[0;34m,\u001b[0m \u001b[0my\u001b[0m\u001b[0;34m=\u001b[0m\u001b[0mdf\u001b[0m\u001b[0;34m[\u001b[0m\u001b[0;34m'Normal_Heat_Flux_onRobin'\u001b[0m\u001b[0;34m]\u001b[0m\u001b[0;34m,\u001b[0m \u001b[0mmode\u001b[0m\u001b[0;34m=\u001b[0m\u001b[0;34m'lines'\u001b[0m\u001b[0;34m,\u001b[0m \u001b[0mname\u001b[0m\u001b[0;34m=\u001b[0m\u001b[0;34m'$y$'\u001b[0m\u001b[0;34m)\u001b[0m\u001b[0;34m,\u001b[0m \u001b[0;34m)\u001b[0m\u001b[0;34m\u001b[0m\u001b[0;34m\u001b[0m\u001b[0m\n",
      "\u001b[0;31mNameError\u001b[0m: name 'meas' is not defined"
     ]
    }
   ],
   "source": [
    "import numpy as np\n",
    "import plotly.graph_objects as go\n",
    "import pandas as pd\n",
    "\n",
    "df = pd.DataFrame(meas)\n",
    "fig = go.Figure()\n",
    "fig.add_trace(go.Scatter(x=df['time'], y=df['Normal_Heat_Flux_onRobin'], mode='lines', name='$y$'), )\n",
    "fig.update_xaxes(title_text=r\"x\")\n",
    "fig.update_yaxes(title_text=r\"y\")\n",
    "fig.show()"
   ]
  },
  {
   "cell_type": "code",
   "execution_count": 6,
   "metadata": {},
   "outputs": [
    {
     "name": "stdout",
     "output_type": "stream",
     "text": [
      "40\n"
     ]
    }
   ],
   "source": [
    "print(df['time'].size)"
   ]
  }
 ],
 "metadata": {
  "kernelspec": {
   "display_name": "Python 3",
   "language": "python",
   "name": "python3"
  },
  "language_info": {
   "codemirror_mode": {
    "name": "ipython",
    "version": 3
   },
   "file_extension": ".py",
   "mimetype": "text/x-python",
   "name": "python",
   "nbconvert_exporter": "python",
   "pygments_lexer": "ipython3",
   "version": "3.10.6"
  },
  "orig_nbformat": 4,
  "vscode": {
   "interpreter": {
    "hash": "e7370f93d1d0cde622a1f8e1c04877d8463912d04d973331ad4851f04de6915a"
   }
  }
 },
 "nbformat": 4,
 "nbformat_minor": 2
}
